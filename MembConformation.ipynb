{
 "cells": [
  {
   "cell_type": "code",
   "execution_count": 57,
   "id": "33d909d2",
   "metadata": {},
   "outputs": [],
   "source": [
    "import MDAnalysis as mda\n",
    "from MDAnalysis.tests.datafiles import PSF, DCD\n",
    "from MDAnalysis.analysis import distances\n",
    "import matplotlib.pyplot as plt\n",
    "import numpy as np\n",
    "import seaborn as sb\n",
    "import pandas as pd"
   ]
  },
  {
   "cell_type": "code",
   "execution_count": 61,
   "id": "5ac9a47d",
   "metadata": {},
   "outputs": [
    {
     "name": "stderr",
     "output_type": "stream",
     "text": [
      "Exception ignored in: <function ReaderBase.__del__ at 0x7fbb292fddc0>\n",
      "Traceback (most recent call last):\n",
      "  File \"/Scr/alutsky/miniconda3/lib/python3.9/site-packages/MDAnalysis/coordinates/base.py\", line 2200, in __del__\n",
      "    self.close()\n",
      "  File \"/Scr/alutsky/miniconda3/lib/python3.9/site-packages/MDAnalysis/coordinates/DCD.py\", line 167, in close\n",
      "    self._file.close()\n",
      "AttributeError: 'DCDReader' object has no attribute '_file'\n"
     ]
    },
    {
     "data": {
      "text/plain": [
       "6295"
      ]
     },
     "execution_count": 61,
     "metadata": {},
     "output_type": "execute_result"
    }
   ],
   "source": [
    "u = MDAnalysis.Universe(PSF, DCD)\n",
    "u = mda.Universe(#psf, dcd)\n",
    "\n"
   ]
  },
  {
   "cell_type": "code",
   "execution_count": null,
   "id": "51ed89b2",
   "metadata": {},
   "outputs": [],
   "source": []
  }
 ],
 "metadata": {
  "kernelspec": {
   "display_name": "Python 3 (ipykernel)",
   "language": "python",
   "name": "python3"
  },
  "language_info": {
   "codemirror_mode": {
    "name": "ipython",
    "version": 3
   },
   "file_extension": ".py",
   "mimetype": "text/x-python",
   "name": "python",
   "nbconvert_exporter": "python",
   "pygments_lexer": "ipython3",
   "version": "3.9.12"
  }
 },
 "nbformat": 4,
 "nbformat_minor": 5
}
